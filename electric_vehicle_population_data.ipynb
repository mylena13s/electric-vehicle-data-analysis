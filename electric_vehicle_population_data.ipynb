{
  "nbformat": 4,
  "nbformat_minor": 0,
  "metadata": {
    "colab": {
      "provenance": []
    },
    "kernelspec": {
      "name": "python3",
      "display_name": "Python 3"
    },
    "language_info": {
      "name": "python"
    }
  },
  "cells": [
    {
      "cell_type": "markdown",
      "source": [
        "Importando as bibibliotecas"
      ],
      "metadata": {
        "id": "IcAYPduroiKe"
      }
    },
    {
      "cell_type": "code",
      "execution_count": null,
      "metadata": {
        "colab": {
          "base_uri": "https://localhost:8080/"
        },
        "id": "wIcR23hen7zs",
        "outputId": "683d8624-d7ee-480f-b293-6727175e79a3"
      },
      "outputs": [
        {
          "output_type": "stream",
          "name": "stdout",
          "text": [
            "Requirement already satisfied: pyspark in /usr/local/lib/python3.10/dist-packages (3.5.1)\n",
            "Requirement already satisfied: py4j==0.10.9.7 in /usr/local/lib/python3.10/dist-packages (from pyspark) (0.10.9.7)\n"
          ]
        }
      ],
      "source": [
        "!pip install pyspark\n"
      ]
    },
    {
      "cell_type": "code",
      "source": [
        "from pyspark.sql import SparkSession\n",
        "from google.colab import files"
      ],
      "metadata": {
        "id": "epMyCxTXqrO9"
      },
      "execution_count": null,
      "outputs": []
    },
    {
      "cell_type": "code",
      "source": [
        "uploaded = files.upload()"
      ],
      "metadata": {
        "colab": {
          "base_uri": "https://localhost:8080/",
          "height": 74
        },
        "id": "f50zxvvUqykS",
        "outputId": "1992dafb-86da-4f95-9b94-10970e49afb3"
      },
      "execution_count": null,
      "outputs": [
        {
          "output_type": "display_data",
          "data": {
            "text/plain": [
              "<IPython.core.display.HTML object>"
            ],
            "text/html": [
              "\n",
              "     <input type=\"file\" id=\"files-4c20665b-e0d9-403c-b0c2-63f6beb8ac9c\" name=\"files[]\" multiple disabled\n",
              "        style=\"border:none\" />\n",
              "     <output id=\"result-4c20665b-e0d9-403c-b0c2-63f6beb8ac9c\">\n",
              "      Upload widget is only available when the cell has been executed in the\n",
              "      current browser session. Please rerun this cell to enable.\n",
              "      </output>\n",
              "      <script>// Copyright 2017 Google LLC\n",
              "//\n",
              "// Licensed under the Apache License, Version 2.0 (the \"License\");\n",
              "// you may not use this file except in compliance with the License.\n",
              "// You may obtain a copy of the License at\n",
              "//\n",
              "//      http://www.apache.org/licenses/LICENSE-2.0\n",
              "//\n",
              "// Unless required by applicable law or agreed to in writing, software\n",
              "// distributed under the License is distributed on an \"AS IS\" BASIS,\n",
              "// WITHOUT WARRANTIES OR CONDITIONS OF ANY KIND, either express or implied.\n",
              "// See the License for the specific language governing permissions and\n",
              "// limitations under the License.\n",
              "\n",
              "/**\n",
              " * @fileoverview Helpers for google.colab Python module.\n",
              " */\n",
              "(function(scope) {\n",
              "function span(text, styleAttributes = {}) {\n",
              "  const element = document.createElement('span');\n",
              "  element.textContent = text;\n",
              "  for (const key of Object.keys(styleAttributes)) {\n",
              "    element.style[key] = styleAttributes[key];\n",
              "  }\n",
              "  return element;\n",
              "}\n",
              "\n",
              "// Max number of bytes which will be uploaded at a time.\n",
              "const MAX_PAYLOAD_SIZE = 100 * 1024;\n",
              "\n",
              "function _uploadFiles(inputId, outputId) {\n",
              "  const steps = uploadFilesStep(inputId, outputId);\n",
              "  const outputElement = document.getElementById(outputId);\n",
              "  // Cache steps on the outputElement to make it available for the next call\n",
              "  // to uploadFilesContinue from Python.\n",
              "  outputElement.steps = steps;\n",
              "\n",
              "  return _uploadFilesContinue(outputId);\n",
              "}\n",
              "\n",
              "// This is roughly an async generator (not supported in the browser yet),\n",
              "// where there are multiple asynchronous steps and the Python side is going\n",
              "// to poll for completion of each step.\n",
              "// This uses a Promise to block the python side on completion of each step,\n",
              "// then passes the result of the previous step as the input to the next step.\n",
              "function _uploadFilesContinue(outputId) {\n",
              "  const outputElement = document.getElementById(outputId);\n",
              "  const steps = outputElement.steps;\n",
              "\n",
              "  const next = steps.next(outputElement.lastPromiseValue);\n",
              "  return Promise.resolve(next.value.promise).then((value) => {\n",
              "    // Cache the last promise value to make it available to the next\n",
              "    // step of the generator.\n",
              "    outputElement.lastPromiseValue = value;\n",
              "    return next.value.response;\n",
              "  });\n",
              "}\n",
              "\n",
              "/**\n",
              " * Generator function which is called between each async step of the upload\n",
              " * process.\n",
              " * @param {string} inputId Element ID of the input file picker element.\n",
              " * @param {string} outputId Element ID of the output display.\n",
              " * @return {!Iterable<!Object>} Iterable of next steps.\n",
              " */\n",
              "function* uploadFilesStep(inputId, outputId) {\n",
              "  const inputElement = document.getElementById(inputId);\n",
              "  inputElement.disabled = false;\n",
              "\n",
              "  const outputElement = document.getElementById(outputId);\n",
              "  outputElement.innerHTML = '';\n",
              "\n",
              "  const pickedPromise = new Promise((resolve) => {\n",
              "    inputElement.addEventListener('change', (e) => {\n",
              "      resolve(e.target.files);\n",
              "    });\n",
              "  });\n",
              "\n",
              "  const cancel = document.createElement('button');\n",
              "  inputElement.parentElement.appendChild(cancel);\n",
              "  cancel.textContent = 'Cancel upload';\n",
              "  const cancelPromise = new Promise((resolve) => {\n",
              "    cancel.onclick = () => {\n",
              "      resolve(null);\n",
              "    };\n",
              "  });\n",
              "\n",
              "  // Wait for the user to pick the files.\n",
              "  const files = yield {\n",
              "    promise: Promise.race([pickedPromise, cancelPromise]),\n",
              "    response: {\n",
              "      action: 'starting',\n",
              "    }\n",
              "  };\n",
              "\n",
              "  cancel.remove();\n",
              "\n",
              "  // Disable the input element since further picks are not allowed.\n",
              "  inputElement.disabled = true;\n",
              "\n",
              "  if (!files) {\n",
              "    return {\n",
              "      response: {\n",
              "        action: 'complete',\n",
              "      }\n",
              "    };\n",
              "  }\n",
              "\n",
              "  for (const file of files) {\n",
              "    const li = document.createElement('li');\n",
              "    li.append(span(file.name, {fontWeight: 'bold'}));\n",
              "    li.append(span(\n",
              "        `(${file.type || 'n/a'}) - ${file.size} bytes, ` +\n",
              "        `last modified: ${\n",
              "            file.lastModifiedDate ? file.lastModifiedDate.toLocaleDateString() :\n",
              "                                    'n/a'} - `));\n",
              "    const percent = span('0% done');\n",
              "    li.appendChild(percent);\n",
              "\n",
              "    outputElement.appendChild(li);\n",
              "\n",
              "    const fileDataPromise = new Promise((resolve) => {\n",
              "      const reader = new FileReader();\n",
              "      reader.onload = (e) => {\n",
              "        resolve(e.target.result);\n",
              "      };\n",
              "      reader.readAsArrayBuffer(file);\n",
              "    });\n",
              "    // Wait for the data to be ready.\n",
              "    let fileData = yield {\n",
              "      promise: fileDataPromise,\n",
              "      response: {\n",
              "        action: 'continue',\n",
              "      }\n",
              "    };\n",
              "\n",
              "    // Use a chunked sending to avoid message size limits. See b/62115660.\n",
              "    let position = 0;\n",
              "    do {\n",
              "      const length = Math.min(fileData.byteLength - position, MAX_PAYLOAD_SIZE);\n",
              "      const chunk = new Uint8Array(fileData, position, length);\n",
              "      position += length;\n",
              "\n",
              "      const base64 = btoa(String.fromCharCode.apply(null, chunk));\n",
              "      yield {\n",
              "        response: {\n",
              "          action: 'append',\n",
              "          file: file.name,\n",
              "          data: base64,\n",
              "        },\n",
              "      };\n",
              "\n",
              "      let percentDone = fileData.byteLength === 0 ?\n",
              "          100 :\n",
              "          Math.round((position / fileData.byteLength) * 100);\n",
              "      percent.textContent = `${percentDone}% done`;\n",
              "\n",
              "    } while (position < fileData.byteLength);\n",
              "  }\n",
              "\n",
              "  // All done.\n",
              "  yield {\n",
              "    response: {\n",
              "      action: 'complete',\n",
              "    }\n",
              "  };\n",
              "}\n",
              "\n",
              "scope.google = scope.google || {};\n",
              "scope.google.colab = scope.google.colab || {};\n",
              "scope.google.colab._files = {\n",
              "  _uploadFiles,\n",
              "  _uploadFilesContinue,\n",
              "};\n",
              "})(self);\n",
              "</script> "
            ]
          },
          "metadata": {}
        },
        {
          "output_type": "stream",
          "name": "stdout",
          "text": [
            "Saving Electric_Vehicle_Population_Data.csv to Electric_Vehicle_Population_Data.csv\n"
          ]
        }
      ]
    },
    {
      "cell_type": "code",
      "source": [
        "csv_file = 'Electric_Vehicle_Population_Data.csv'"
      ],
      "metadata": {
        "id": "bsIMZCbZvwZd"
      },
      "execution_count": null,
      "outputs": []
    },
    {
      "cell_type": "code",
      "source": [
        "spark = SparkSession.builder.appName(\"Colab PySpark\").getOrCreate()"
      ],
      "metadata": {
        "id": "8aOmru1HvrJM"
      },
      "execution_count": null,
      "outputs": []
    },
    {
      "cell_type": "code",
      "source": [
        "df = spark.read.csv(csv_file, header=True, inferSchema=True)"
      ],
      "metadata": {
        "id": "qLeAzNtVwWQW"
      },
      "execution_count": null,
      "outputs": []
    },
    {
      "cell_type": "markdown",
      "source": [
        "🔎 Analisando os dados."
      ],
      "metadata": {
        "id": "43LNUqN_oHW3"
      }
    },
    {
      "cell_type": "code",
      "source": [
        "df.show()"
      ],
      "metadata": {
        "colab": {
          "base_uri": "https://localhost:8080/"
        },
        "id": "NjLwn8kmwg4u",
        "outputId": "b678b14d-af78-40eb-ec9c-2ba0ac61a3a6"
      },
      "execution_count": null,
      "outputs": [
        {
          "output_type": "stream",
          "name": "stdout",
          "text": [
            "+----------+---------+------------+-----+-----------+----------+--------+-----------+---------------------+-------------------------------------------------+--------------+---------+--------------------+--------------+--------------------+--------------------+-----------------+\n",
            "|VIN (1-10)|   County|        City|State|Postal Code|Model Year|    Make|      Model|Electric Vehicle Type|Clean Alternative Fuel Vehicle (CAFV) Eligibility|Electric Range|Base MSRP|Legislative District|DOL Vehicle ID|    Vehicle Location|    Electric Utility|2020 Census Tract|\n",
            "+----------+---------+------------+-----+-----------+----------+--------+-----------+---------------------+-------------------------------------------------+--------------+---------+--------------------+--------------+--------------------+--------------------+-----------------+\n",
            "|5YJSA1E22K|     King|     Seattle|   WA|      98112|      2019|   TESLA|    MODEL S| Battery Electric ...|                             Clean Alternative...|           270|        0|                  43|     202233958|POINT (-122.30031...|CITY OF SEATTLE -...|      53033006500|\n",
            "|3MW39FS05R|   Yakima|      Zillah|   WA|      98953|      2024|     BMW|       330E| Plug-in Hybrid El...|                             Not eligible due ...|            20|        0|                  15|     264425178|POINT (-120.26581...|          PACIFICORP|      53077002201|\n",
            "|1N4AZ0CP0F|     King|        Kent|   WA|      98031|      2015|  NISSAN|       LEAF| Battery Electric ...|                             Clean Alternative...|            84|        0|                  11|     114962025|POINT (-122.20156...|PUGET SOUND ENERG...|      53033029306|\n",
            "|5YJSA1H20F|Snohomish|     Bothell|   WA|      98012|      2015|   TESLA|    MODEL S| Battery Electric ...|                             Clean Alternative...|           208|        0|                   1|     232724670|POINT (-122.20614...|PUGET SOUND ENERG...|      53061052107|\n",
            "|JTMAB3FV1N|   Yakima|      Yakima|   WA|      98908|      2022|  TOYOTA| RAV4 PRIME| Plug-in Hybrid El...|                             Clean Alternative...|            42|        0|                  14|     221023589|POINT (-120.61106...|          PACIFICORP|      53077000902|\n",
            "|5YJ3E1EB6K|     King|     Redmond|   WA|      98052|      2019|   TESLA|    MODEL 3| Battery Electric ...|                             Clean Alternative...|           220|        0|                  48|     296777442|POINT (-122.12073...|PUGET SOUND ENERG...|      53033022606|\n",
            "|5YJ3E1EB0J| Thurston|        Yelm|   WA|      98597|      2018|   TESLA|    MODEL 3| Battery Electric ...|                             Clean Alternative...|           215|        0|                   2|     311913577|POINT (-122.57157...|PUGET SOUND ENERG...|      53067012422|\n",
            "|3FA6P0SU8D|   Kitsap|     Poulsbo|   WA|      98370|      2013|    FORD|     FUSION| Plug-in Hybrid El...|                             Not eligible due ...|            19|        0|                  23|     136752115|POINT (-122.63688...|PUGET SOUND ENERG...|      53035090400|\n",
            "|5YJSA1E21H|     King|     Redmond|   WA|      98052|      2017|   TESLA|    MODEL S| Battery Electric ...|                             Clean Alternative...|           210|        0|                  45|     241259105|POINT (-122.12073...|PUGET SOUND ENERG...|      53033032321|\n",
            "|5YJ3E1EA4J|Snohomish|     Bothell|   WA|      98012|      2018|   TESLA|    MODEL 3| Battery Electric ...|                             Clean Alternative...|           215|        0|                   1|     118035830|POINT (-122.20614...|PUGET SOUND ENERG...|      53061052009|\n",
            "|5YJSA1E22H| Thurston|     Olympia|   WA|      98501|      2017|   TESLA|    MODEL S| Battery Electric ...|                             Clean Alternative...|           210|        0|                  22|     105283265|POINT (-122.87332...|PUGET SOUND ENERG...|      53067010100|\n",
            "|JTDKARFP9K|   Kitsap|     Poulsbo|   WA|      98370|      2019|  TOYOTA|PRIUS PRIME| Plug-in Hybrid El...|                             Not eligible due ...|            25|        0|                  23|     340612723|POINT (-122.63688...|PUGET SOUND ENERG...|      53035090502|\n",
            "|1N4AZ0CP1F|   Kitsap|Port Orchard|   WA|      98367|      2015|  NISSAN|       LEAF| Battery Electric ...|                             Clean Alternative...|            84|        0|                  35|     162186916|POINT (-122.65300...|PUGET SOUND ENERG...|      53035092901|\n",
            "|5YJ3E1EA4L|     King|        Kent|   WA|      98030|      2020|   TESLA|    MODEL 3| Battery Electric ...|                             Clean Alternative...|           266|        0|                  47|       3417746|POINT (-122.19942...|PUGET SOUND ENERG...|      53033029507|\n",
            "|3C3CFFGE2F|     King|   Shoreline|   WA|      98155|      2015|    FIAT|        500| Battery Electric ...|                             Clean Alternative...|            87|        0|                  32|     148799822|POINT (-122.30150...|CITY OF SEATTLE -...|      53033020500|\n",
            "|2C4RC1N76L| Thurston|    Tumwater|   WA|      98512|      2020|CHRYSLER|   PACIFICA| Plug-in Hybrid El...|                             Clean Alternative...|            32|        0|                  22|     123132670|POINT (-122.95704...|PUGET SOUND ENERG...|      53067010910|\n",
            "|5YJ3E1EA7L|Snohomish|     Bothell|   WA|      98012|      2020|   TESLA|    MODEL 3| Battery Electric ...|                             Clean Alternative...|           266|        0|                  21|     127118694|POINT (-122.20614...|PUGET SOUND ENERG...|      53061051922|\n",
            "|WBY73AW09P|Snohomish|   Snohomish|   WA|      98296|      2023|     BMW|         I4| Battery Electric ...|                             Eligibility unkno...|             0|        0|                   1|     221273244|POINT (-122.12184...|PUGET SOUND ENERG...|      53061052114|\n",
            "|1N4BZ0CP8H|     King|    Bellevue|   WA|      98007|      2017|  NISSAN|       LEAF| Battery Electric ...|                             Clean Alternative...|           107|        0|                  48|     211610367|POINT (-122.14367...|PUGET SOUND ENERG...|      53033023201|\n",
            "|5YJYGDEE9L|     King|     Bothell|   WA|      98011|      2020|   TESLA|    MODEL Y| Battery Electric ...|                             Clean Alternative...|           291|        0|                   1|     116957438|POINT (-122.20140...|PUGET SOUND ENERG...|      53033021905|\n",
            "+----------+---------+------------+-----+-----------+----------+--------+-----------+---------------------+-------------------------------------------------+--------------+---------+--------------------+--------------+--------------------+--------------------+-----------------+\n",
            "only showing top 20 rows\n",
            "\n"
          ]
        }
      ]
    },
    {
      "cell_type": "code",
      "source": [
        "df.printSchema()"
      ],
      "metadata": {
        "colab": {
          "base_uri": "https://localhost:8080/"
        },
        "id": "hq8BlXP8w7p-",
        "outputId": "0cc19690-bdef-41cd-9b5a-29a4c6ec64d7"
      },
      "execution_count": null,
      "outputs": [
        {
          "output_type": "stream",
          "name": "stdout",
          "text": [
            "root\n",
            " |-- VIN (1-10): string (nullable = true)\n",
            " |-- County: string (nullable = true)\n",
            " |-- City: string (nullable = true)\n",
            " |-- State: string (nullable = true)\n",
            " |-- Postal Code: integer (nullable = true)\n",
            " |-- Model Year: integer (nullable = true)\n",
            " |-- Make: string (nullable = true)\n",
            " |-- Model: string (nullable = true)\n",
            " |-- Electric Vehicle Type: string (nullable = true)\n",
            " |-- Clean Alternative Fuel Vehicle (CAFV) Eligibility: string (nullable = true)\n",
            " |-- Electric Range: integer (nullable = true)\n",
            " |-- Base MSRP: integer (nullable = true)\n",
            " |-- Legislative District: integer (nullable = true)\n",
            " |-- DOL Vehicle ID: integer (nullable = true)\n",
            " |-- Vehicle Location: string (nullable = true)\n",
            " |-- Electric Utility: string (nullable = true)\n",
            " |-- 2020 Census Tract: long (nullable = true)\n",
            "\n"
          ]
        }
      ]
    },
    {
      "cell_type": "code",
      "source": [
        "df.select(\"Make\", \"Model\", \"Electric Range\").show(5)\n"
      ],
      "metadata": {
        "colab": {
          "base_uri": "https://localhost:8080/"
        },
        "id": "R-Jbc_l1zHQb",
        "outputId": "d3cf4809-1abb-44bc-d598-c64c4f5153ef"
      },
      "execution_count": null,
      "outputs": [
        {
          "output_type": "stream",
          "name": "stdout",
          "text": [
            "+------+----------+--------------+\n",
            "|  Make|     Model|Electric Range|\n",
            "+------+----------+--------------+\n",
            "| TESLA|   MODEL S|           270|\n",
            "|   BMW|      330E|            20|\n",
            "|NISSAN|      LEAF|            84|\n",
            "| TESLA|   MODEL S|           208|\n",
            "|TOYOTA|RAV4 PRIME|            42|\n",
            "+------+----------+--------------+\n",
            "only showing top 5 rows\n",
            "\n"
          ]
        }
      ]
    },
    {
      "cell_type": "code",
      "source": [
        "df.filter(df[\"Electric Range\"] > 100).show(5)"
      ],
      "metadata": {
        "colab": {
          "base_uri": "https://localhost:8080/"
        },
        "id": "gA0Sd_DrzJkP",
        "outputId": "3450191b-4d1c-469f-df92-551a2524272a"
      },
      "execution_count": null,
      "outputs": [
        {
          "output_type": "stream",
          "name": "stdout",
          "text": [
            "+----------+---------+-------+-----+-----------+----------+-----+-------+---------------------+-------------------------------------------------+--------------+---------+--------------------+--------------+--------------------+--------------------+-----------------+\n",
            "|VIN (1-10)|   County|   City|State|Postal Code|Model Year| Make|  Model|Electric Vehicle Type|Clean Alternative Fuel Vehicle (CAFV) Eligibility|Electric Range|Base MSRP|Legislative District|DOL Vehicle ID|    Vehicle Location|    Electric Utility|2020 Census Tract|\n",
            "+----------+---------+-------+-----+-----------+----------+-----+-------+---------------------+-------------------------------------------------+--------------+---------+--------------------+--------------+--------------------+--------------------+-----------------+\n",
            "|5YJSA1E22K|     King|Seattle|   WA|      98112|      2019|TESLA|MODEL S| Battery Electric ...|                             Clean Alternative...|           270|        0|                  43|     202233958|POINT (-122.30031...|CITY OF SEATTLE -...|      53033006500|\n",
            "|5YJSA1H20F|Snohomish|Bothell|   WA|      98012|      2015|TESLA|MODEL S| Battery Electric ...|                             Clean Alternative...|           208|        0|                   1|     232724670|POINT (-122.20614...|PUGET SOUND ENERG...|      53061052107|\n",
            "|5YJ3E1EB6K|     King|Redmond|   WA|      98052|      2019|TESLA|MODEL 3| Battery Electric ...|                             Clean Alternative...|           220|        0|                  48|     296777442|POINT (-122.12073...|PUGET SOUND ENERG...|      53033022606|\n",
            "|5YJ3E1EB0J| Thurston|   Yelm|   WA|      98597|      2018|TESLA|MODEL 3| Battery Electric ...|                             Clean Alternative...|           215|        0|                   2|     311913577|POINT (-122.57157...|PUGET SOUND ENERG...|      53067012422|\n",
            "|5YJSA1E21H|     King|Redmond|   WA|      98052|      2017|TESLA|MODEL S| Battery Electric ...|                             Clean Alternative...|           210|        0|                  45|     241259105|POINT (-122.12073...|PUGET SOUND ENERG...|      53033032321|\n",
            "+----------+---------+-------+-----+-----------+----------+-----+-------+---------------------+-------------------------------------------------+--------------+---------+--------------------+--------------+--------------------+--------------------+-----------------+\n",
            "only showing top 5 rows\n",
            "\n"
          ]
        }
      ]
    },
    {
      "cell_type": "code",
      "source": [
        "df.groupBy(\"Make\").count().show(5)"
      ],
      "metadata": {
        "colab": {
          "base_uri": "https://localhost:8080/"
        },
        "id": "akgN93xJzRA0",
        "outputId": "21ad2160-8927-442d-ea74-ee5fcb61eff2"
      },
      "execution_count": null,
      "outputs": [
        {
          "output_type": "stream",
          "name": "stdout",
          "text": [
            "+--------------------+-----+\n",
            "|                Make|count|\n",
            "+--------------------+-----+\n",
            "|WHEEGO ELECTRIC CARS|    3|\n",
            "|             PORSCHE| 1182|\n",
            "|             HYUNDAI| 4977|\n",
            "|                FIAT|  781|\n",
            "|               LUCID|  263|\n",
            "+--------------------+-----+\n",
            "only showing top 5 rows\n",
            "\n"
          ]
        }
      ]
    },
    {
      "cell_type": "code",
      "source": [
        "df.createOrReplaceTempView(\"vehicles\")"
      ],
      "metadata": {
        "id": "geLUdwv6zWEm"
      },
      "execution_count": null,
      "outputs": []
    },
    {
      "cell_type": "code",
      "source": [
        "result = spark.sql(\"SELECT Make, COUNT(*) as count FROM vehicles GROUP BY Make\")"
      ],
      "metadata": {
        "id": "eELVzZRNzaug"
      },
      "execution_count": null,
      "outputs": []
    },
    {
      "cell_type": "code",
      "source": [
        "result.show()"
      ],
      "metadata": {
        "colab": {
          "base_uri": "https://localhost:8080/"
        },
        "id": "h877SYOGzdf3",
        "outputId": "417b0c34-4bc7-4c8f-bbc6-c9cb67c871c9"
      },
      "execution_count": null,
      "outputs": [
        {
          "output_type": "stream",
          "name": "stdout",
          "text": [
            "+--------------------+-----+\n",
            "|                Make|count|\n",
            "+--------------------+-----+\n",
            "|WHEEGO ELECTRIC CARS|    3|\n",
            "|             PORSCHE| 1182|\n",
            "|             HYUNDAI| 4977|\n",
            "|                FIAT|  781|\n",
            "|               LUCID|  263|\n",
            "|              TOYOTA| 7181|\n",
            "|              SUBARU|  970|\n",
            "|              NISSAN|14239|\n",
            "|             BENTLEY|    3|\n",
            "|                FORD|10048|\n",
            "|                AUDI| 3890|\n",
            "|                MINI|  984|\n",
            "|         ROLLS ROYCE|    2|\n",
            "|          ALFA ROMEO|   56|\n",
            "|               DODGE|  619|\n",
            "|           CHEVROLET|14321|\n",
            "|              JAGUAR|  234|\n",
            "|               LEXUS|  567|\n",
            "|                JEEP| 4996|\n",
            "|               VOLVO| 4469|\n",
            "+--------------------+-----+\n",
            "only showing top 20 rows\n",
            "\n"
          ]
        }
      ]
    }
  ]
}